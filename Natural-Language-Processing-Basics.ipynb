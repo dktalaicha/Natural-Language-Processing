{
 "cells": [
  {
   "cell_type": "markdown",
   "metadata": {},
   "source": [
    "# Natural Language Processing (NLP)\n",
    "____________________________"
   ]
  },
  {
   "cell_type": "markdown",
   "metadata": {},
   "source": [
    "# What is NLP? \n",
    "\n",
    "Natural language processing (NLP) is a branch of artificial intelligence that helps computers understand, interpret and manipulate human language.\n",
    "\n",
    "NLP makes it possible for computers to read text, hear speech, interpret it, measure sentiment and determine which parts are important.\n",
    "\n",
    "The input and output of an NLP system can be −\n",
    "* Speech\n",
    "* Written Text\n",
    "\n",
    "# What are Components of NLP?\n",
    "\n",
    "There are two components of NLP as given −\n",
    "\n",
    "### 1. Natural Language Understanding (NLU)\n",
    "    Understanding involves the following tasks −\n",
    "\n",
    "        * Mapping the given input in natural language into useful representations.\n",
    "        * Analyzing different aspects of the language.\n",
    "\n",
    "### 2. Natural Language Generation (NLG)\n",
    "It is the process of producing meaningful phrases and sentences in the form of natural language from some internal representation.\n",
    "\n",
    "    It involves −\n",
    "        * Text planning − It includes retrieving the relevant content from knowledge base.\n",
    "        * Sentence planning  − It includes choosing required words, forming meaningful phrases, setting tone of the sentence.\n",
    "        * Text Realization − It is mapping sentence plan into sentence structure.\n",
    "    \n",
    "\n",
    "# Difficulties in NLU\n",
    "NL has an extremely rich form and structure.\n",
    "\n",
    "It is very ambiguous. There can be different levels of ambiguity −\n",
    "\n",
    "* **Lexical ambiguity** − It is at very primitive level such as word-level.\n",
    "\n",
    "        For example, treating the word “board” as noun or verb?\n",
    "\n",
    "* **Syntax Level ambiguity** − A sentence can be parsed in different ways.\n",
    "\n",
    "        For example, “He lifted the beetle with red cap.” − Did he use cap to lift the beetle or he lifted a beetle that had red cap?\n",
    "\n",
    "* **Referential ambiguity** − Referring to something using pronouns. For example, Rima went to Gauri. She said, “I am tired.” − Exactly who is tired?\n",
    "\n",
    "One input can mean different meanings. Many inputs can mean the same thing.\n",
    "\n",
    "\n",
    "# Why is NLP important?\n",
    "* **Large volumes of textual data**\n",
    "Today’s machines can analyze more language-based data than humans, without fatigue and in a consistent, unbiased way. Considering the staggering amount of unstructured data that’s generated every day, from medical records to social media, automation will be critical to fully analyze text and speech data efficiently.\n",
    "\n",
    "* **Structuring a highly unstructured data source**\n",
    "NLP is important because it helps resolve ambiguity in language and adds useful numeric structure to the data for many downstream applications, such as speech recognition or text analytics. \n",
    "\n",
    "# How does NLP work?\n",
    "Basic NLP tasks include tokenization and parsing, lemmatization/stemming, part-of-speech tagging, language detection and identification of semantic relationships. \n",
    "\n",
    "In general terms, NLP tasks break down language into shorter, elemental pieces, try to understand relationships between the pieces and explore how the pieces work together to create meaning."
   ]
  },
  {
   "cell_type": "markdown",
   "metadata": {},
   "source": [
    "# Introduction to Natural Language Processing Library\n",
    "\n",
    "* The NLTK library in python is a massive tool kit, it stands for **Natural Language Tool Kit**.\n",
    "* It is aimed at helping you with the entire Natural Language Processing (NLP) methodology. \n",
    "* NLTK will aid you with everything from splitting sentences from paragraphs, splitting up words, recognizing the part of speech of those words, highlighting the main subjects, and then even with helping your machine to understand what the text is all about."
   ]
  },
  {
   "cell_type": "code",
   "execution_count": 19,
   "metadata": {},
   "outputs": [],
   "source": [
    "import pandas as pd\n",
    "# importing NLTK library\n",
    "import nltk"
   ]
  },
  {
   "cell_type": "markdown",
   "metadata": {},
   "source": [
    "# NLTK resources online installation"
   ]
  },
  {
   "cell_type": "code",
   "execution_count": 2,
   "metadata": {},
   "outputs": [],
   "source": [
    "# The next step is to download all the required libraries and data for nltk\n",
    "# Run below command if you want to download all the resources required by nltk using live internet connection\n",
    "# use server url: http://www.nltk.org/nltk_data/\n",
    "\n",
    "####nltk.download()\n"
   ]
  },
  {
   "cell_type": "markdown",
   "metadata": {},
   "source": [
    "Choose to download \"all\" for all packages, and then click 'download.' This will give you all of the tokenizers, chunkers, other algorithms, and all of the corpora. If space is an issue, you can elect to selectively download everything manually. The NLTK module will take up about 7MB, and the entire nltk_data directory will take up about 1.8GB, which includes your chunkers, parsers, and the corpora."
   ]
  },
  {
   "cell_type": "code",
   "execution_count": 3,
   "metadata": {},
   "outputs": [
    {
     "name": "stdout",
     "output_type": "stream",
     "text": [
      "NLTK Downloader\n",
      "---------------------------------------------------------------------------\n",
      "    d) Download   l) List    u) Update   c) Config   h) Help   q) Quit\n",
      "---------------------------------------------------------------------------\n",
      "Downloader> q\n"
     ]
    }
   ],
   "source": [
    "nltk.download_shell()"
   ]
  },
  {
   "cell_type": "markdown",
   "metadata": {},
   "source": [
    "# NLTK resources offline installation"
   ]
  },
  {
   "cell_type": "code",
   "execution_count": 4,
   "metadata": {},
   "outputs": [
    {
     "data": {
      "text/plain": [
       "['/home/dinesh/nltk_data',\n",
       " '/home/dinesh/anaconda3/nltk_data',\n",
       " '/home/dinesh/anaconda3/share/nltk_data',\n",
       " '/home/dinesh/anaconda3/lib/nltk_data',\n",
       " '/usr/share/nltk_data',\n",
       " '/usr/local/share/nltk_data',\n",
       " '/usr/lib/nltk_data',\n",
       " '/usr/local/lib/nltk_data']"
      ]
     },
     "execution_count": 4,
     "metadata": {},
     "output_type": "execute_result"
    }
   ],
   "source": [
    "# Another option is to place the already downloaded nltk_data folder at any of the below path folder\n",
    "# When we inport any module from nltk then the command searches for resources in below listed folders\n",
    "nltk.data.path"
   ]
  },
  {
   "cell_type": "code",
   "execution_count": 5,
   "metadata": {},
   "outputs": [
    {
     "name": "stdout",
     "output_type": "stream",
     "text": [
      "/home/dinesh/nltk_data  ----->  False\n",
      "/home/dinesh/anaconda3/nltk_data  ----->  True\n",
      "/home/dinesh/anaconda3/share/nltk_data  ----->  False\n",
      "/home/dinesh/anaconda3/lib/nltk_data  ----->  False\n",
      "/usr/share/nltk_data  ----->  False\n",
      "/usr/local/share/nltk_data  ----->  False\n",
      "/usr/lib/nltk_data  ----->  False\n",
      "/usr/local/lib/nltk_data  ----->  False\n"
     ]
    }
   ],
   "source": [
    "# After keeping the nltk_data folder at any one of the locations we can check if this directory exists or not\n",
    "import os\n",
    "for listedPath in nltk.data.path:\n",
    "    print(listedPath, \" -----> \" ,os.path.isdir(listedPath))"
   ]
  },
  {
   "cell_type": "markdown",
   "metadata": {},
   "source": [
    "It can be seen that the folder \"/home/dinesh/anaconda3/nltk_data\" exists.\n",
    "\n",
    "That means we have the required folder present!"
   ]
  },
  {
   "cell_type": "markdown",
   "metadata": {},
   "source": [
    "# NLP basic terminology\n",
    "\n",
    "Now that you have all the things that you need, let's understand some quick vocabulary:"
   ]
  },
  {
   "cell_type": "markdown",
   "metadata": {},
   "source": [
    "\n",
    "## Corpus - collection of text documents\n",
    "\n",
    "A corpus can be defined as a collection of text documents. It can be thought as just a bunch of text files in a directory, often alongside many other directories of text files.\n",
    "\n",
    "Corpus is singular. Corpora is the plural of this. \n",
    "\n",
    "Example: A collection of medical journals.\n",
    "Corpus is the equivalent of \"dataset\" in a general machine learning task.\n",
    "\n",
    "## Lexicon - dictionary or  vocabulary of a language\n",
    "The definition of a lexicon is a dictionary or the vocabulary of a language, a people or a subject. \n",
    "Words and their meanings. Example: English dictionary. Consider, however, that various fields will have different lexicons. For example: To a financial investor, the first meaning for the word \"Bull\" is someone who is confident about the market, as compared to the common English lexicon, where the first meaning for the word \"Bull\" is an animal. As such, there is a special lexicon for financial investors, doctors, children, mechanics, and so on.\n"
   ]
  },
  {
   "cell_type": "code",
   "execution_count": 6,
   "metadata": {},
   "outputs": [
    {
     "name": "stdout",
     "output_type": "stream",
     "text": [
      "[\"I would love to try or hear the sample audio your app can produce. I do not want to purchase, because I've purchased so many apps that say they do something and do not deliver.  \", \"Can you please add audio samples with text you've converted? I'd love to see the end results.\", 'Thanks!']\n"
     ]
    }
   ],
   "source": [
    "# Creating a wordlist corpus\n",
    "import nltk\n",
    "from nltk.corpus.reader import WordListCorpusReader \n",
    "x = WordListCorpusReader('.', ['datasets/sample.txt']) \n",
    "x.words() \n",
    "x.fileids() \n",
    "\n",
    "print(x.words())"
   ]
  },
  {
   "cell_type": "code",
   "execution_count": 36,
   "metadata": {},
   "outputs": [],
   "source": [
    "# loading libraries \n",
    "import nltk.data \n",
    "  \n",
    "#nltk.data.load('corpora/indian/README', format ='raw') "
   ]
  },
  {
   "cell_type": "code",
   "execution_count": 8,
   "metadata": {},
   "outputs": [
    {
     "data": {
      "text/plain": [
       "[Synset('cat.n.01'),\n",
       " Synset('guy.n.01'),\n",
       " Synset('cat.n.03'),\n",
       " Synset('kat.n.01'),\n",
       " Synset('cat-o'-nine-tails.n.01'),\n",
       " Synset('caterpillar.n.02'),\n",
       " Synset('big_cat.n.01'),\n",
       " Synset('computerized_tomography.n.01'),\n",
       " Synset('cat.v.01'),\n",
       " Synset('vomit.v.01')]"
      ]
     },
     "execution_count": 8,
     "metadata": {},
     "output_type": "execute_result"
    }
   ],
   "source": [
    "# import nltk\n",
    "from nltk.corpus import wordnet as wn\n",
    "wn.synsets('cat') \n",
    "\n",
    "# synsets method Load all semantically equivalent with a given lemma and part of speech tag."
   ]
  },
  {
   "cell_type": "markdown",
   "metadata": {},
   "source": [
    "## Stop Words\n",
    "A stop word is a commonly used word (such as “the”, “a”, “an”, “in”) that a search engine has been programmed to ignore, both when indexing entries for searching and when retrieving them as the result of a search query.\n",
    "\n",
    "## Stop Words Removal\n",
    "Stop Words Removal includes getting rid of common language articles, pronouns and prepositions such as “and”, “the” or “to” in English. In this process some very common words that appear to provide little or no value to the NLP objective are filtered and excluded from the text to be processed, hence removing widespread and frequent terms that are not informative about the corresponding text.\n",
    "Stop words can be safely ignored by carrying out a lookup in a pre-defined list of keywords, freeing up database space and improving processing time. There is no universal list of stop words. "
   ]
  },
  {
   "cell_type": "code",
   "execution_count": 9,
   "metadata": {},
   "outputs": [
    {
     "name": "stdout",
     "output_type": "stream",
     "text": [
      "Number of Stopwords :  179\n",
      "\n",
      " First 20 Stopwords :  ['by', 'wouldn', 'if', 'himself', 'had', 'just', 'theirs', 'ourselves', 'into', 'yourselves', 'ma', 'hers', 'the', \"it's\", 'her', 'didn', 'shan', 'then', 'over', 'being']\n"
     ]
    }
   ],
   "source": [
    "# List of stopwords can be found in NLTK corpus API:\n",
    "from nltk.corpus import stopwords\n",
    "stopWords = list(set(stopwords.words('english')))\n",
    "\n",
    "print(\"Number of Stopwords : \",len(stopWords))\n",
    "print(\"\\n First 20 Stopwords : \",stopWords[:20])"
   ]
  },
  {
   "cell_type": "code",
   "execution_count": 10,
   "metadata": {},
   "outputs": [
    {
     "data": {
      "text/plain": [
       "['Hello',\n",
       " 'Mr.',\n",
       " 'Smith,',\n",
       " 'today?',\n",
       " 'weather',\n",
       " 'great,',\n",
       " 'Python',\n",
       " 'awesome.',\n",
       " 'sky',\n",
       " 'pinkish-blue.',\n",
       " 'eat',\n",
       " 'cardboard.']"
      ]
     },
     "execution_count": 10,
     "metadata": {},
     "output_type": "execute_result"
    }
   ],
   "source": [
    "\n",
    "EXAMPLE_TEXT = '''Hello Mr. Smith, how are you doing today? The weather is great, and Python is awesome. \n",
    "The sky is pinkish-blue. You shouldn't eat cardboard.'''\n",
    "\n",
    "clean_mess = [word for word in EXAMPLE_TEXT.split() if word.lower() not in stopwords.words('english')]\n",
    "\n",
    "clean_mess"
   ]
  },
  {
   "cell_type": "code",
   "execution_count": 11,
   "metadata": {},
   "outputs": [
    {
     "name": "stdout",
     "output_type": "stream",
     "text": [
      "['Hello', 'Mr.', 'Smith', ',', 'today', '?', 'The', 'weather', 'great', ',', 'Python', 'awesome', '.', 'The', 'sky', 'pinkish-blue', '.', 'You', \"n't\", 'eat', 'cardboard', '.']\n"
     ]
    }
   ],
   "source": [
    "# Removal of stopwords\n",
    "from nltk.corpus import stopwords\n",
    "from nltk.tokenize import sent_tokenize, word_tokenize\n",
    "\n",
    "def remove_stopword(sentence):\n",
    "    tokenize_word = word_tokenize(sentence)\n",
    "    return [w for w in tokenize_word if w not in list(set(stopwords.words('english')))]\n",
    "\n",
    "EXAMPLE_TEXT = '''Hello Mr. Smith, how are you doing today? The weather is great, and Python is awesome. \n",
    "The sky is pinkish-blue. You shouldn't eat cardboard.'''\n",
    "\n",
    "print(remove_stopword(EXAMPLE_TEXT))"
   ]
  },
  {
   "cell_type": "markdown",
   "metadata": {},
   "source": [
    "\n",
    "## Token \n",
    "Each \"entity\" that is a part of whatever was split up based on rules. For examples, each word is a token when a sentence is \"tokenized\" into words. Each sentence can also be a token, if you tokenized the sentences out of a paragraph.\n",
    "\n",
    "## Tokenization\n",
    "Tokenization is the process of **segmenting** running text into sentences and words. In essence, it’s the task of cutting a text into pieces called tokens, and at the same time throwing away certain characters, such as punctuation."
   ]
  },
  {
   "cell_type": "code",
   "execution_count": 12,
   "metadata": {},
   "outputs": [
    {
     "name": "stdout",
     "output_type": "stream",
     "text": [
      "['Hello Mr. Smith, how are you doing today?', 'The weather is great, and Python is awesome.', 'The sky is pinkish-blue.', \"You shouldn't eat cardboard.\"]\n"
     ]
    }
   ],
   "source": [
    "from nltk.tokenize import sent_tokenize, word_tokenize\n",
    "EXAMPLE_TEXT = '''Hello Mr. Smith, how are you doing today? The weather is great, and Python is awesome. \n",
    "The sky is pinkish-blue. You shouldn't eat cardboard.'''\n",
    "\n",
    "print(sent_tokenize(EXAMPLE_TEXT))"
   ]
  },
  {
   "cell_type": "markdown",
   "metadata": {},
   "source": [
    "At first, you may think tokenizing by things like words or sentences is a rather trivial thing. For many sentences it can be! The first step would be likely doing a simple .split('. '), or splitting by period followed by a space. Then maybe you would bring in some regular expressions to split by period, space, and then a capital letter. The problem is that things like Mr. Smith would cause you trouble, and many other things. Splitting by word is also a challenge, especially when considering things like concatenations like we and are to we're. NLTK is going to go ahead and just save you a ton of time with this seemingly simple, yet very complex, operation.\n",
    "\n",
    "The above code will output the sentences, split up into a list of sentences"
   ]
  },
  {
   "cell_type": "code",
   "execution_count": 13,
   "metadata": {},
   "outputs": [
    {
     "name": "stdout",
     "output_type": "stream",
     "text": [
      "['Hello', 'Mr.', 'Smith', ',', 'how', 'are', 'you', 'doing', 'today', '?', 'The', 'weather', 'is', 'great', ',', 'and', 'Python', 'is', 'awesome', '.', 'The', 'sky', 'is', 'pinkish-blue', '.', 'You', 'should', \"n't\", 'eat', 'cardboard', '.']\n"
     ]
    }
   ],
   "source": [
    "# So there, we have created tokens, which are sentences. Let's tokenize by word this time:\n",
    "print(word_tokenize(EXAMPLE_TEXT))"
   ]
  },
  {
   "cell_type": "code",
   "execution_count": 14,
   "metadata": {},
   "outputs": [
    {
     "name": "stdout",
     "output_type": "stream",
     "text": [
      "['All', 'work', 'play', 'makes', 'jack', 'dull', 'boy', '.', 'All', 'work', 'play', 'makes', 'jack', 'dull', 'boy', '.']\n"
     ]
    }
   ],
   "source": [
    "# create a new list called wordsFiltered which contains all words which are not stop words.\n",
    "\n",
    "from nltk.tokenize import sent_tokenize, word_tokenize\n",
    "from nltk.corpus import stopwords\n",
    " \n",
    "data = \"All work and no play makes jack dull boy. All work and no play makes jack a dull boy.\"\n",
    "stopWords = set(stopwords.words('english'))\n",
    "words = word_tokenize(data)\n",
    "\n",
    "wordsFiltered = []\n",
    "\n",
    "for w in words:\n",
    "    if w not in stopWords:\n",
    "        wordsFiltered.append(w)\n",
    "\n",
    "print(wordsFiltered)"
   ]
  },
  {
   "cell_type": "markdown",
   "metadata": {},
   "source": [
    "## Stemming - process of slicing\n",
    "Stemming refers to the process of slicing the end or the beginning of words with the intention of removing affixes (lexical additions to the root of the word)."
   ]
  },
  {
   "cell_type": "code",
   "execution_count": 16,
   "metadata": {},
   "outputs": [
    {
     "name": "stdout",
     "output_type": "stream",
     "text": [
      "Tokenised Sentences : \n",
      "\n",
      "['Natural language processing (NLP) is a field of computer science, artificial intelligence, and \\ncomputational linguistics concerned with the interactions between computers and human (natural) languages.', 'This is a very good example to explain this concept.', 'Just another line to show some good variation.'] \n",
      "\n",
      "Stemmed Sentence : \n",
      "\n",
      "['natur languag process ( nlp ) field comput scienc , artifici intellig , comput linguist concern interact comput human ( natur ) languag .', 'thi good exampl explain concept .', 'just anoth line show good variat .'] \n",
      "\n"
     ]
    }
   ],
   "source": [
    "# Stemming\n",
    "\n",
    "import nltk\n",
    "from nltk.stem import PorterStemmer\n",
    "from nltk.corpus import stopwords\n",
    "\n",
    "SampleText = \"\"\"Natural language processing (NLP) is a field of computer science, artificial intelligence, and \n",
    "computational linguistics concerned with the interactions between computers and human (natural) languages. \n",
    "This is a very good example to explain this concept. Just another line to show some good variation.\"\"\"\n",
    "\n",
    "sentences = nltk.sent_tokenize(SampleText)\n",
    "print(\"Tokenised Sentences : \\n\")\n",
    "print(sentences,\"\\n\")\n",
    "stemmer = PorterStemmer()\n",
    "\n",
    "\n",
    "# Stemming\n",
    "for i in range(len(sentences)):\n",
    "    words = nltk.word_tokenize(sentences[i])\n",
    "    words = [stemmer.stem(w) for w in words if w not in set(stopwords.words('english'))]\n",
    "    sentences[i] = ' '.join(words)\n",
    "\n",
    "print(\"Stemmed Sentence : \\n\")\n",
    "print(sentences,\"\\n\")"
   ]
  },
  {
   "cell_type": "markdown",
   "metadata": {},
   "source": [
    "\n",
    "## Lemmatization - reducing a word to its base form\n",
    "\n",
    "Lemmatization has the objective of reducing a word to its base form and grouping together different forms of the same word. \n",
    "\n",
    "Lemmatization resolves words to their dictionary form (known as lemma) for which it requires detailed dictionaries in which the algorithm can look into and link words to their corresponding lemmas.\n",
    "\n",
    "For example, the words “running”, “runs” and “ran” are all forms of the word “run”, so “run” is the lemma of all the previous words.\n",
    "\n",
    "<img src=\"images/fig-nlp-1.png\" style=\"display:none\" />\n",
    "\n"
   ]
  },
  {
   "cell_type": "code",
   "execution_count": 17,
   "metadata": {},
   "outputs": [
    {
     "name": "stdout",
     "output_type": "stream",
     "text": [
      "Tokenised Sentences : \n",
      "\n",
      "['Natural language processing (NLP) is a field of computer science, artificial intelligence, and \\ncomputational linguistics concerned with the interactions between computers and human (natural) languages.', 'This is a very good example to explain this concept.', 'Just another line to show some good variation.'] \n",
      "\n",
      "Lemmatised Sentences : \n",
      "\n",
      "['Natural language processing ( NLP ) field computer science , artificial intelligence , computational linguistics concerned interaction computer human ( natural ) language .', 'This good example explain concept .', 'Just another line show good variation .'] \n",
      "\n"
     ]
    }
   ],
   "source": [
    "# Lemmatization\n",
    "import nltk\n",
    "from nltk.stem import WordNetLemmatizer\n",
    "from nltk.corpus import stopwords\n",
    "\n",
    "SampleText = \"\"\"Natural language processing (NLP) is a field of computer science, artificial intelligence, and \n",
    "computational linguistics concerned with the interactions between computers and human (natural) languages. \n",
    "This is a very good example to explain this concept. Just another line to show some good variation.\"\"\"\n",
    "\n",
    "sentences = nltk.sent_tokenize(SampleText)\n",
    "print(\"Tokenised Sentences : \\n\")\n",
    "print(sentences,\"\\n\")\n",
    "lemmatizer = WordNetLemmatizer()\n",
    "\n",
    "# Lemmatization\n",
    "for i in range(len(sentences)):\n",
    "    words = nltk.word_tokenize(sentences[i])\n",
    "    words = [lemmatizer.lemmatize(w) for w in words if w not in set(stopwords.words('english'))]\n",
    "    sentences[i] = ' '.join(words) \n",
    "    \n",
    "print(\"Lemmatised Sentences : \\n\")\n",
    "print(sentences,\"\\n\")"
   ]
  },
  {
   "cell_type": "markdown",
   "metadata": {},
   "source": [
    "## Bag of Words (BOW) - Frequency of words\n",
    "Bag of Words is a commonly used model that allows you to **count all words** in a piece of text. Basically it creates an **occurrence matrix** for the sentence or document, disregarding grammar and word order. These word frequencies or occurrences are then used as features for training a classifier."
   ]
  },
  {
   "cell_type": "code",
   "execution_count": 20,
   "metadata": {},
   "outputs": [
    {
     "name": "stdout",
     "output_type": "stream",
     "text": [
      "List of Punctution :  !\"#$%&'()*+,-./:;<=>?@[\\]^_`{|}~ \n",
      "\n",
      "Cleaned Texts : \n",
      " ['natural language processing nlp field computer science artificial intelligence computational linguistics concerned interaction computer human natural language', 'good example explain concept', 'another line show good variation'] \n",
      "\n",
      "Bag of Words (BOW) \n",
      "\n",
      "[[0 1 1 2 0 1 0 0 1 0 1 1 1 2 0 1 2 1 1 1 0 0]\n",
      " [0 0 0 0 1 0 1 1 0 1 0 0 0 0 0 0 0 0 0 0 0 0]\n",
      " [1 0 0 0 0 0 0 0 0 1 0 0 0 0 1 0 0 0 0 0 1 1]]\n",
      "\n",
      "Bag of Words (BOW) Features: \n",
      "\n",
      "['another', 'artificial', 'computational', 'computer', 'concept', 'concerned', 'example', 'explain', 'field', 'good', 'human', 'intelligence', 'interaction', 'language', 'line', 'linguistics', 'natural', 'nlp', 'processing', 'science', 'show', 'variation']\n",
      "Bag of Words (BOW) \n",
      "\n"
     ]
    },
    {
     "data": {
      "text/html": [
       "<div>\n",
       "<style scoped>\n",
       "    .dataframe tbody tr th:only-of-type {\n",
       "        vertical-align: middle;\n",
       "    }\n",
       "\n",
       "    .dataframe tbody tr th {\n",
       "        vertical-align: top;\n",
       "    }\n",
       "\n",
       "    .dataframe thead th {\n",
       "        text-align: right;\n",
       "    }\n",
       "</style>\n",
       "<table border=\"1\" class=\"dataframe\">\n",
       "  <thead>\n",
       "    <tr style=\"text-align: right;\">\n",
       "      <th></th>\n",
       "      <th>another</th>\n",
       "      <th>artificial</th>\n",
       "      <th>computational</th>\n",
       "      <th>computer</th>\n",
       "      <th>concept</th>\n",
       "      <th>concerned</th>\n",
       "      <th>example</th>\n",
       "      <th>explain</th>\n",
       "      <th>field</th>\n",
       "      <th>good</th>\n",
       "      <th>...</th>\n",
       "      <th>language</th>\n",
       "      <th>line</th>\n",
       "      <th>linguistics</th>\n",
       "      <th>natural</th>\n",
       "      <th>nlp</th>\n",
       "      <th>processing</th>\n",
       "      <th>science</th>\n",
       "      <th>show</th>\n",
       "      <th>variation</th>\n",
       "      <th>originalText</th>\n",
       "    </tr>\n",
       "  </thead>\n",
       "  <tbody>\n",
       "    <tr>\n",
       "      <td>0</td>\n",
       "      <td>0</td>\n",
       "      <td>1</td>\n",
       "      <td>1</td>\n",
       "      <td>2</td>\n",
       "      <td>0</td>\n",
       "      <td>1</td>\n",
       "      <td>0</td>\n",
       "      <td>0</td>\n",
       "      <td>1</td>\n",
       "      <td>0</td>\n",
       "      <td>...</td>\n",
       "      <td>2</td>\n",
       "      <td>0</td>\n",
       "      <td>1</td>\n",
       "      <td>2</td>\n",
       "      <td>1</td>\n",
       "      <td>1</td>\n",
       "      <td>1</td>\n",
       "      <td>0</td>\n",
       "      <td>0</td>\n",
       "      <td>natural language processing nlp field computer...</td>\n",
       "    </tr>\n",
       "    <tr>\n",
       "      <td>1</td>\n",
       "      <td>0</td>\n",
       "      <td>0</td>\n",
       "      <td>0</td>\n",
       "      <td>0</td>\n",
       "      <td>1</td>\n",
       "      <td>0</td>\n",
       "      <td>1</td>\n",
       "      <td>1</td>\n",
       "      <td>0</td>\n",
       "      <td>1</td>\n",
       "      <td>...</td>\n",
       "      <td>0</td>\n",
       "      <td>0</td>\n",
       "      <td>0</td>\n",
       "      <td>0</td>\n",
       "      <td>0</td>\n",
       "      <td>0</td>\n",
       "      <td>0</td>\n",
       "      <td>0</td>\n",
       "      <td>0</td>\n",
       "      <td>good example explain concept</td>\n",
       "    </tr>\n",
       "    <tr>\n",
       "      <td>2</td>\n",
       "      <td>1</td>\n",
       "      <td>0</td>\n",
       "      <td>0</td>\n",
       "      <td>0</td>\n",
       "      <td>0</td>\n",
       "      <td>0</td>\n",
       "      <td>0</td>\n",
       "      <td>0</td>\n",
       "      <td>0</td>\n",
       "      <td>1</td>\n",
       "      <td>...</td>\n",
       "      <td>0</td>\n",
       "      <td>1</td>\n",
       "      <td>0</td>\n",
       "      <td>0</td>\n",
       "      <td>0</td>\n",
       "      <td>0</td>\n",
       "      <td>0</td>\n",
       "      <td>1</td>\n",
       "      <td>1</td>\n",
       "      <td>another line show good variation</td>\n",
       "    </tr>\n",
       "  </tbody>\n",
       "</table>\n",
       "<p>3 rows × 23 columns</p>\n",
       "</div>"
      ],
      "text/plain": [
       "   another  artificial  computational  computer  concept  concerned  example  \\\n",
       "0        0           1              1         2        0          1        0   \n",
       "1        0           0              0         0        1          0        1   \n",
       "2        1           0              0         0        0          0        0   \n",
       "\n",
       "   explain  field  good  ...  language  line  linguistics  natural  nlp  \\\n",
       "0        0      1     0  ...         2     0            1        2    1   \n",
       "1        1      0     1  ...         0     0            0        0    0   \n",
       "2        0      0     1  ...         0     1            0        0    0   \n",
       "\n",
       "   processing  science  show  variation  \\\n",
       "0           1        1     0          0   \n",
       "1           0        0     0          0   \n",
       "2           0        0     1          1   \n",
       "\n",
       "                                        originalText  \n",
       "0  natural language processing nlp field computer...  \n",
       "1                       good example explain concept  \n",
       "2                   another line show good variation  \n",
       "\n",
       "[3 rows x 23 columns]"
      ]
     },
     "execution_count": 20,
     "metadata": {},
     "output_type": "execute_result"
    }
   ],
   "source": [
    "#Bag of Words (BOW)\n",
    "\n",
    "import nltk\n",
    "import string\n",
    "from nltk.corpus import stopwords\n",
    "from nltk.stem.porter import PorterStemmer\n",
    "from nltk.stem import WordNetLemmatizer\n",
    "\n",
    "SampleText = \"\"\"Natural language processing (NLP) is a field of computer science, artificial intelligence, and \n",
    "computational linguistics concerned with the interactions between computers and human (natural) languages. \n",
    "This is a very good example to explain this concept. Just another line to show some good variation.\"\"\"\n",
    "\n",
    "# Cleaning the texts\n",
    "ps = PorterStemmer()\n",
    "wordnet=WordNetLemmatizer()\n",
    "sentences = nltk.sent_tokenize(SampleText)\n",
    "\n",
    "print(\"List of Punctution : \", string.punctuation, \"\\n\")\n",
    "\n",
    "corpus = []\n",
    "for i in range(len(sentences)):\n",
    "    cleanText = [char for char in sentences[i] if char not in string.punctuation]\n",
    "    cleanText = ''.join(cleanText)\n",
    "    cleanText = cleanText.lower()\n",
    "    cleanText = cleanText.split()\n",
    "    cleanText = [wordnet.lemmatize(w) for w in cleanText if not w in set(stopwords.words('english'))]\n",
    "    cleanText = ' '.join(cleanText)\n",
    "    corpus.append(cleanText)\n",
    "    \n",
    "print(\"Cleaned Texts : \\n\",corpus,\"\\n\")\n",
    "\n",
    "# Creating the Bag of Words model\n",
    "from sklearn.feature_extraction.text import CountVectorizer\n",
    "\n",
    "cv = CountVectorizer(max_features = 1500)\n",
    "bow = cv.fit_transform(corpus)\n",
    "\n",
    "print(\"Bag of Words (BOW) \\n\")\n",
    "print(bow.toarray())\n",
    "\n",
    "print(\"\\nBag of Words (BOW) Features: \\n\")\n",
    "print(cv.get_feature_names())\n",
    "\n",
    "\n",
    "# Visualizing the Document Term Matrix\n",
    "print(\"Bag of Words (BOW) \\n\")\n",
    "VectorizedText = pd.DataFrame(bow.toarray(), columns=cv.get_feature_names())\n",
    "VectorizedText['originalText'] = pd.Series(corpus)\n",
    "VectorizedText"
   ]
  },
  {
   "cell_type": "code",
   "execution_count": null,
   "metadata": {},
   "outputs": [],
   "source": [
    "# Words to Vector\n",
    "\n",
    "import nltk\n",
    "import string\n",
    "from nltk.corpus import stopwords\n",
    "from nltk.stem.porter import PorterStemmer\n",
    "from nltk.stem import WordNetLemmatizer\n",
    "\n",
    "from gensim.models import Word2Vec\n",
    "\n",
    "SampleText = \"\"\"Natural language processing (NLP) is a field of computer science, artificial intelligence, and \n",
    "computational linguistics concerned with the interactions between computers and human (natural) languages. \n",
    "This is a very good example to explain this concept. Just another line to show some good variation.\"\"\"\n",
    "\n",
    "# Cleaning the texts\n",
    "ps = PorterStemmer()\n",
    "wordnet=WordNetLemmatizer()\n",
    "sentences = nltk.sent_tokenize(SampleText)\n",
    "words = [nltk.word_tokenize(s) for s in sentences]\n",
    "\n",
    "print(\"List of Punctution : \", string.punctuation, \"\\n\")\n",
    "\n",
    "corpus = []\n",
    "for i in range(len(words)):\n",
    "    cleanText = [char for char in words[i] if char not in string.punctuation]\n",
    "    cleanText = ''.join(cleanText)\n",
    "    cleanText = cleanText.lower()\n",
    "    cleanText = cleanText.split()\n",
    "    cleanText = [wordnet.lemmatize(w) for w in cleanText if not w in set(stopwords.words('english'))]\n",
    "    cleanText = ' '.join(cleanText)\n",
    "    corpus.append(cleanText)\n",
    "    \n",
    "print(\"Cleaned Texts : \\n\",corpus,\"\\n\")\n",
    "\n",
    "# Training the Word2Vec model\n",
    "model = Word2Vec(corpus, min_count=1)\n",
    "\n",
    "\n",
    "words = model.wv.vocab\n",
    "\n",
    "# Finding Word Vectors\n",
    "vector = model.wv['war']\n",
    "\n",
    "# Most similar words\n",
    "similar = model.wv.most_similar('vikram')"
   ]
  },
  {
   "cell_type": "markdown",
   "metadata": {},
   "source": [
    "## Topic Modeling - uncovering hidden structures\n",
    "Topic Modeling is as a **method for uncovering hidden structures** in sets of texts or documents. In essence it clusters texts to discover latent topics based on their contents, processing individual words and assigning them values based on their distribution. This technique is based on the assumptions that each document consists of a mixture of topics and that each topic consists of a set of words, which means that if we can spot these hidden topics we can unlock the meaning of our texts."
   ]
  },
  {
   "cell_type": "markdown",
   "metadata": {},
   "source": [
    "## N-Grams - combination of N words\n",
    "A combination of N words together are called N-Grams. N grams (N > 1) are generally more informative as compared to words (Unigrams) as features. Also, bigrams (N = 2) are considered as the most important features of all the others. The following code generates bigram of a text."
   ]
  },
  {
   "cell_type": "code",
   "execution_count": 21,
   "metadata": {},
   "outputs": [],
   "source": [
    "def generate_ngrams(text, WordsToCombine):\n",
    "    words = text.split()\n",
    "    output = []  \n",
    "    for i in range(len(words)- WordsToCombine+1):\n",
    "        output.append(words[i:i+WordsToCombine])\n",
    "    return output"
   ]
  },
  {
   "cell_type": "code",
   "execution_count": 26,
   "metadata": {},
   "outputs": [
    {
     "data": {
      "text/plain": [
       "[['this', 'is'],\n",
       " ['is', 'a'],\n",
       " ['a', 'very'],\n",
       " ['very', 'good'],\n",
       " ['good', 'book'],\n",
       " ['book', 'to'],\n",
       " ['to', 'study']]"
      ]
     },
     "execution_count": 26,
     "metadata": {},
     "output_type": "execute_result"
    }
   ],
   "source": [
    "generate_ngrams(text='this is a very good book to study', WordsToCombine=2)"
   ]
  },
  {
   "cell_type": "code",
   "execution_count": 22,
   "metadata": {},
   "outputs": [
    {
     "name": "stdout",
     "output_type": "stream",
     "text": [
      "('this', 'is', 'a')\n",
      "('is', 'a', 'very')\n",
      "('a', 'very', 'good')\n",
      "('very', 'good', 'book')\n",
      "('good', 'book', 'to')\n",
      "('book', 'to', 'study')\n"
     ]
    }
   ],
   "source": [
    "# NLTK function to generate ngrams\n",
    "import nltk\n",
    "from nltk.util import ngrams\n",
    "\n",
    "samplText='this is a very good book to study'\n",
    "NGRAMS=ngrams(sequence=nltk.word_tokenize(samplText), n=3)\n",
    "for grams in NGRAMS:\n",
    "    print(grams)"
   ]
  },
  {
   "cell_type": "markdown",
   "metadata": {},
   "source": [
    "## TextBlob\n",
    "\n",
    "TextBlob is a Python library for processing textual data. It provides a consistent API for diving into common natural language processing (NLP) tasks such as part-of-speech tagging, noun phrase extraction, sentiment analysis, and more."
   ]
  },
  {
   "cell_type": "markdown",
   "metadata": {},
   "source": [
    "#### Problem Statement: \n",
    "I have a long text (review/tweets/news), I need to understand what subjects are being talked and what is the sentiment of the text."
   ]
  },
  {
   "cell_type": "code",
   "execution_count": 23,
   "metadata": {},
   "outputs": [
    {
     "name": "stdout",
     "output_type": "stream",
     "text": [
      "Natural language processing (NLP) is a field of computer science, artificial intelligence, and \n",
      "computational linguistics concerned with the interactions between computers and human (natural) languages. \n",
      "This is a very good example to explain this concept. Just another line to show some good variation.\n"
     ]
    }
   ],
   "source": [
    "from textblob import TextBlob\n",
    "\n",
    "SampleText = \"\"\"Natural language processing (NLP) is a field of computer science, artificial intelligence, and \n",
    "computational linguistics concerned with the interactions between computers and human (natural) languages. \n",
    "This is a very good example to explain this concept. Just another line to show some good variation.\"\"\"\n",
    "\n",
    "# Converting the sample text to a blob\n",
    "SampleTextInBlobFormat = TextBlob(SampleText)\n",
    "\n",
    "print(SampleTextInBlobFormat)"
   ]
  },
  {
   "cell_type": "markdown",
   "metadata": {},
   "source": [
    "## Sentiment Analysis\n",
    "https://towardsdatascience.com/basic-binary-sentiment-analysis-using-nltk-c94ba17ae386"
   ]
  },
  {
   "cell_type": "code",
   "execution_count": 29,
   "metadata": {},
   "outputs": [
    {
     "data": {
      "text/plain": [
       "Sentiment(polarity=0.20166666666666666, subjectivity=0.5466666666666667)"
      ]
     },
     "execution_count": 29,
     "metadata": {},
     "output_type": "execute_result"
    }
   ],
   "source": [
    "# Sentiment=-1 means 100% negative sentiment\n",
    "# Sentiment=+1 means 100% positive sentiment\n",
    "# Sentiment=0 means no sentiment\n",
    "\n",
    "# Subjectivity =1 means the text is meaningful.\n",
    "# Subjectivity =0 means the text does not has any meaning.\n",
    "\n",
    "SampleTextInBlobFormat.sentiment"
   ]
  },
  {
   "cell_type": "markdown",
   "metadata": {},
   "source": [
    "## Noun Phrases Extraction"
   ]
  },
  {
   "cell_type": "code",
   "execution_count": 24,
   "metadata": {},
   "outputs": [
    {
     "data": {
      "text/plain": [
       "WordList(['natural language processing', 'nlp', 'computer science', 'artificial intelligence', 'computational linguistics', 'good example', 'good variation'])"
      ]
     },
     "execution_count": 24,
     "metadata": {},
     "output_type": "execute_result"
    }
   ],
   "source": [
    "# Finding the noun phrases (important keywords combination) in the text\n",
    "# This can help to find out what entities are being talked about in the given text\n",
    "NounPhrases=SampleTextInBlobFormat.noun_phrases\n",
    "NounPhrases"
   ]
  },
  {
   "cell_type": "markdown",
   "metadata": {},
   "source": [
    "## WordCloud\n",
    "Plotting wordcloud of the noun phrases can help visualize what are the topics/entities being discussed"
   ]
  },
  {
   "cell_type": "code",
   "execution_count": 25,
   "metadata": {},
   "outputs": [
    {
     "data": {
      "text/plain": [
       "['natural_language_processing',\n",
       " 'nlp',\n",
       " 'computer_science',\n",
       " 'artificial_intelligence',\n",
       " 'computational_linguistics',\n",
       " 'good_example',\n",
       " 'good_variation']"
      ]
     },
     "execution_count": 25,
     "metadata": {},
     "output_type": "execute_result"
    }
   ],
   "source": [
    "# Creating an empty list to hold new values\n",
    "# combining the noun phrases using underscore to visualize it as wordcloud\n",
    "NewNounList=[]\n",
    "for words in NounPhrases:\n",
    "    NewNounList.append(words.replace(\" \", \"_\"))\n",
    "\n",
    "NewNounList"
   ]
  },
  {
   "cell_type": "code",
   "execution_count": 26,
   "metadata": {},
   "outputs": [
    {
     "data": {
      "text/plain": [
       "'natural_language_processing nlp computer_science artificial_intelligence computational_linguistics good_example good_variation'"
      ]
     },
     "execution_count": 26,
     "metadata": {},
     "output_type": "execute_result"
    }
   ],
   "source": [
    "# Converting list into a string to plot wordcloud\n",
    "NewNounString = ' '.join(NewNounList)\n",
    "NewNounString"
   ]
  },
  {
   "cell_type": "code",
   "execution_count": 30,
   "metadata": {},
   "outputs": [
    {
     "data": {
      "image/png": "[encoded data removed]",
      "text/plain": [
       "<Figure size 576x576 with 1 Axes>"
      ]
     },
     "metadata": {
      "needs_background": "light"
     },
     "output_type": "display_data"
    }
   ],
   "source": [
    "from wordcloud import WordCloud, STOPWORDS\n",
    "import matplotlib.pyplot as plt\n",
    "\n",
    "customStopwords=list(STOPWORDS)\n",
    "wordcloudimage = WordCloud(max_words=50,\n",
    "                           font_step=2 ,\n",
    "                            max_font_size=500,\n",
    "                            stopwords=customStopwords + ['nlp'],\n",
    "                            width=2000,\n",
    "                            height=2000\n",
    "                          ).generate(NewNounString)\n",
    "\n",
    "plt.figure(figsize=(8,8))\n",
    "plt.imshow(wordcloudimage)\n",
    "plt.axis(\"off\")\n",
    "plt.show()"
   ]
  },
  {
   "cell_type": "markdown",
   "metadata": {},
   "source": [
    "## POS Tagging\n",
    "One of the more powerful aspects of the NLTK module is the **Part of Speech** tagging that it can do for you. This means labeling words in a sentence as nouns, adjectives, verbs...etc. Even more impressive, it also labels by tense, and more. Here's a list of the tags, what they mean, and some examples:"
   ]
  },
  {
   "cell_type": "markdown",
   "metadata": {},
   "source": [
    "**POS tag list:**\n",
    "\n",
    "*  CC----->coordinating conjunction\n",
    "*  CD----->cardinal digit\n",
    "*  DT----->determiner\n",
    "*  EX----->existential there (like: \"there is\" ... think of it like \"there exists\")\n",
    "*  FW----->foreign word\n",
    "*  IN----->preposition/subordinating conjunction\n",
    "*  JJ----->adjective\t'big'\n",
    "*  JJR---->adjective, comparative\t'bigger'\n",
    "*  JJS---->adjective, superlative\t'biggest'\n",
    "*  LS----->list marker\t1)\n",
    "*  MD----->modal\tcould, will\n",
    "*  NN----->noun, singular 'desk'\n",
    "*  NNS---->noun plural\t'desks'\n",
    "*  NNP---->proper noun, singular\t'Harrison'\n",
    "*  NNPS--->proper noun, plural\t'Americans'\n",
    "*  PDT---->predeterminer\t'all the kids'\n",
    "*  POS---->possessive ending\tparent's\n",
    "*  PRP---->personal pronoun\tI, he, she\n",
    "*  PRP---->possessive pronoun\tmy, his, hers\n",
    "*  RB----->adverb\tvery, silently,\n",
    "*  RBR---->adverb, comparative\tbetter\n",
    "*  RBS---->adverb, superlative\tbest\n",
    "*  RP----->particle\tgive up\n",
    "*  TO----->to\tgo 'to' the store.\n",
    "*  UH----->interjection\n",
    "*  VB----->verb, base form\ttake\n",
    "*  VBD---->verb, past tense\ttook\n",
    "*  VBG---->verb, gerund/present participle\ttaking\n",
    "*  VBN---->verb, past participle\ttaken\n",
    "*  VBP---->verb, sing. present, non-3d\ttake\n",
    "*  VBZ---->verb, 3rd person sing. present\ttakes\n",
    "*  WDT---->wh-determiner\twhich\n",
    "*  WP----->wh-pronoun\twho, what\n",
    "*  WP----->possessive wh-pronoun\twhose\n",
    "*  WRB---->wh-abverb\twhere, when"
   ]
  },
  {
   "cell_type": "markdown",
   "metadata": {},
   "source": [
    "The output of below code snippet will be a list of tuples, where the first element in the tuple is the word, and the second is the part of speech tag."
   ]
  },
  {
   "cell_type": "code",
   "execution_count": 31,
   "metadata": {},
   "outputs": [
    {
     "data": {
      "text/plain": [
       "[('This', 'DT'),\n",
       " ('is', 'VBZ'),\n",
       " ('a', 'DT'),\n",
       " ('very', 'RB'),\n",
       " ('good', 'JJ'),\n",
       " ('book', 'NN')]"
      ]
     },
     "execution_count": 31,
     "metadata": {},
     "output_type": "execute_result"
    }
   ],
   "source": [
    "from nltk import word_tokenize\n",
    "# Take a quick look into the POS tagger from nltk\n",
    "# The function will identify what part of speech is represented by each word\n",
    "nltk.pos_tag(word_tokenize('This is a very good book'))"
   ]
  },
  {
   "cell_type": "markdown",
   "metadata": {},
   "source": [
    "## Chunking - group into noun phrases\n",
    "\n",
    "We know that the parts of speech like noun, verb, adverb, prefix etc.  We can do what is called chunking, and group words into hopefully meaningful chunks. One of the main goals of chunking is to group into what are known as \"noun phrases.\" These are phrases of one or more words that contain a noun, maybe some descriptive words, maybe a verb, and maybe something like an adverb. The idea is to group nouns with the words that are in relation to them."
   ]
  },
  {
   "cell_type": "code",
   "execution_count": 29,
   "metadata": {},
   "outputs": [
    {
     "name": "stdout",
     "output_type": "stream",
     "text": [
      "Nouns:  book\n",
      "Adjectives:  good nice\n",
      "Overall sentiment score of ajdectives:  Sentiment(polarity=0.6499999999999999, subjectivity=0.8)\n"
     ]
    }
   ],
   "source": [
    "# Finding only the individual Nouns and adjective chunks\n",
    "import nltk\n",
    "sampleSentence = '''This is a very good book, felt really nice reading it.'''\n",
    "#sampleSentence = '''Ravi is a bad leader, he misguides the team too often'''\n",
    "\n",
    "sampleSentence = nltk.word_tokenize(sampleSentence)\n",
    "sampleSentencePOS = nltk.pos_tag(sampleSentence)\n",
    "\n",
    "#Find Nouns or proper Nouns\n",
    "OnlyNouns = (\" \").join([POStags[0] for POStags in sampleSentencePOS if POStags[1] in ['NN','NNP']])\n",
    "\n",
    "# Find only Adjectives\n",
    "OnlyAdjectives= (\" \").join([POStags[0] for POStags in sampleSentencePOS if POStags[1] in ['JJ','JJR','JJS']])\n",
    "\n",
    "print ('Nouns: ', OnlyNouns)\n",
    "print ('Adjectives: ', OnlyAdjectives)\n",
    "print('Overall sentiment score of ajdectives: ',TextBlob(OnlyAdjectives).sentiment)"
   ]
  },
  {
   "cell_type": "markdown",
   "metadata": {},
   "source": [
    "This can give us idea about what type of adjectives are being used for the nouns, whether they are positive or negative keywords\n",
    "\n",
    "A Wordcloud can be plotted for all the adjectives to understand overall sentiment or for all the nouns to understand what are the nouns being talked about\n",
    "\n",
    "Sentiment score can be generated by checking if all the adjectives used are positive or negative"
   ]
  },
  {
   "cell_type": "markdown",
   "metadata": {},
   "source": [
    "## Chunking multiple grammer rules "
   ]
  },
  {
   "cell_type": "code",
   "execution_count": 33,
   "metadata": {},
   "outputs": [
    {
     "name": "stdout",
     "output_type": "stream",
     "text": [
      "(NP very/RB good/JJ book/NN)\n",
      "(NP nice/JJ reading/VBG)\n"
     ]
    }
   ],
   "source": [
    "# Generating grammer rules to find such sentences in data\n",
    "PatternsToFind = '''NP: {<JJ><VBG>} \n",
    "                    NP: {<RB><JJ><NN>} '''\n",
    "\n",
    "sampleSentence = '''This is a very good book, felt really nice reading it.'''\n",
    "#sampleSentence = '''Ravi is a bad leader, he misguides the team too often'''\n",
    "\n",
    "# Creating Parts of Speech(POS) tags\n",
    "sampleSentence = nltk.word_tokenize(sampleSentence)\n",
    "sampleSentencePOS = nltk.pos_tag(sampleSentence)\n",
    "\n",
    "# Chunking the listed patterns\n",
    "PatternParser = nltk.RegexpParser(PatternsToFind)\n",
    "ParsedResults = PatternParser.parse(sampleSentencePOS)\n",
    "\n",
    "# Getting the pattern results from the text data\n",
    "for results in ParsedResults:\n",
    "    #print(results,'--' ,type(results))\n",
    "    \n",
    "    # Printing only the extracted patterns\n",
    "    if(type(results)==nltk.tree.Tree):\n",
    "        print(results)"
   ]
  },
  {
   "cell_type": "markdown",
   "metadata": {},
   "source": [
    "# Named Entity Recognition (NER)"
   ]
  },
  {
   "cell_type": "markdown",
   "metadata": {},
   "source": [
    "One of the most major forms of chunking in natural language processing is called \"Named Entity Recognition.\" The idea is to have the machine immediately be able to pull out \"entities\" like people, places, things, locations, monetary figures, and more.\n",
    "\n",
    "This can be a bit of a challenge, but the library Spacy has this built in for us.\n",
    "\n",
    "Named Entity Type and Examples\n",
    " * ORGANIZATION - Georgia-Pacific Corp., WHO\n",
    " * PERSON - Eddy Bonte, President Obama\n",
    " * LOCATION - Murray River, Mount Everest\n",
    " * DATE - June, 2008-06-29\n",
    " * TIME - two fifty a m, 1:30 p.m.\n",
    " * MONEY - 175 million Canadian Dollars, GBP 10.40\n",
    " * PERCENT - twenty pct, 18.75 %\n",
    " * FACILITY - Washington Monument, Stonehenge\n",
    " * GPE - South East Asia, Midlothian\n",
    " * NORP- Nationality OR Religious or Political groups"
   ]
  },
  {
   "cell_type": "markdown",
   "metadata": {},
   "source": [
    "# Spacy \n",
    "Named Entity Recognition (NER)"
   ]
  },
  {
   "cell_type": "markdown",
   "metadata": {},
   "source": [
    "### Installing the required libraries for spacy\n",
    "spaCy is a free, open-source library for advanced Natural Language Processing (NLP) in Python. It helps to perform NLP using pre-trained models. we are going to use one such model called \"en_core_web_sm\"\n",
    "\n",
    "More information at : https://spacy.io/models/en#en_core_web_sm"
   ]
  },
  {
   "cell_type": "code",
   "execution_count": 37,
   "metadata": {},
   "outputs": [],
   "source": [
    "import spacy\n",
    "import en_core_web_sm\n",
    "nlp = spacy.load('en_core_web_sm')"
   ]
  },
  {
   "cell_type": "code",
   "execution_count": 38,
   "metadata": {},
   "outputs": [
    {
     "name": "stdout",
     "output_type": "stream",
     "text": [
      "[('Indian ministry', 'ORG')]\n",
      "[('$1 billion', 'MONEY')]\n",
      "[('Wednesday', 'DATE')]\n",
      "[('Sitaraman', 'PERSON')]\n",
      "[('Delhi', 'GPE')]\n"
     ]
    }
   ],
   "source": [
    "SampleSentence = '''Indian ministry collected record $1 billion as taxes on Wednesday, finance minister Sitaraman announced in Delhi'''\n",
    "#SampleSentence ='''we will go to Delhi to meet the director of the VCorp, Mr. Ramesh'''\n",
    "\n",
    "FoundEntities=nlp(SampleSentence)\n",
    "for X in FoundEntities.ents:\n",
    "    print([(X.text, X.label_)])"
   ]
  },
  {
   "cell_type": "markdown",
   "metadata": {},
   "source": [
    "### Building a custom NER model\n",
    "Manually build a NER to recognize a given type of word by showing a lot of examples to the algorithm"
   ]
  },
  {
   "cell_type": "code",
   "execution_count": 39,
   "metadata": {},
   "outputs": [],
   "source": [
    "import spacy\n",
    "import random\n",
    "\n",
    "# Creating a sample data to train the NER model which idetifies phone numbers\n",
    "# For high accuracy, large amount of training data is required (at least 500 examples)\n",
    "\n",
    "TRAIN_DATA = [\n",
    "        (\"plese note my phone number is 9923412334\", {\"entities\": [(30, 40, \"PHONE\")]}),\n",
    "        (\"9344528345 is the support phone phone number\", {\"entities\": [(0, 10, \"PHONE\")]}),\n",
    "        (\"9344225345 my phone number is on that list\", {\"entities\": [(0, 10, \"PHONE\")]}),\n",
    "        (\"can you tell if the phone number is 8344528345\", {\"entities\": [(36, 46, \"PHONE\")]}),\n",
    "        (\"can you note my number? it is 8324528345\", {\"entities\": [(30, 40, \"PHONE\")]}),\n",
    "        (\"it is 9344528345\", {\"entities\": [(6, 16, \"PHONE\")]}),\n",
    "        (\"phone number is 8944528341\", {\"entities\": [(16, 26, \"PHONE\")]})\n",
    "]\n",
    "\n",
    "\n",
    "# Creating a blank spacy NER model\n",
    "custom_NER = spacy.blank(\"en\")\n",
    "\n",
    "# give a name to our list of vectors\n",
    "custom_NER.vocab.vectors.name = 'example_model_training'\n",
    "\n",
    "# our pipeline would only do NER\n",
    "ner = custom_NER.create_pipe('ner')\n",
    "\n",
    "# we add the pipeline to the model\n",
    "custom_NER.add_pipe(ner, last=True) \n",
    "\n",
    "# Letting the model know about the entitiy we are trying to train\n",
    "custom_NER.entity.add_label('PHONE')\n",
    "\n",
    "optimizer = custom_NER.begin_training()\n",
    "\n",
    "# Training the model in 10 iterations by randomly shuffling the input\n",
    "for i in range(10):\n",
    "    random.shuffle(TRAIN_DATA)\n",
    "    for text, annotations in TRAIN_DATA:\n",
    "        custom_NER.update([text], [annotations], sgd=optimizer)\n",
    "\n"
   ]
  },
  {
   "cell_type": "code",
   "execution_count": 40,
   "metadata": {},
   "outputs": [
    {
     "name": "stdout",
     "output_type": "stream",
     "text": [
      "[('7774448832', 'PHONE')]\n"
     ]
    }
   ],
   "source": [
    "# Calling the new custom NER model\n",
    "FoundEntities=custom_NER('please save my number it is 7774448832')\n",
    "for X in FoundEntities.ents:\n",
    "    print([(X.text, X.label_)])"
   ]
  },
  {
   "cell_type": "markdown",
   "metadata": {},
   "source": [
    "# Converting unstructured text data into structured features\n",
    "\n",
    "\n",
    "## Text Pre-processing\n",
    "\n",
    "Our main issue with our data is that it is all in text format (strings). The classification algorithms that we've learned about so far will need some sort of numerical feature vector in order to perform the classification task. There are actually many methods to convert a corpus to a vector format. The simplest is the the [bag-of-words](http://en.wikipedia.org/wiki/Bag-of-words_model) approach, where each unique word in a text will be represented by one number.\n",
    "\n",
    "\n",
    "In this section we'll convert the raw messages (sequence of characters) into vectors (sequences of numbers).\n",
    "\n",
    "As a first step, let's write a function that will split a message into its individual words and return a list. We'll also remove very common words, ('the', 'a', etc..). To do this we will take advantage of the NLTK library. It's pretty much the standard library in Python for processing text and has a lot of useful features. We'll only use some of the basic ones here.\n",
    "\n",
    "Let's create a function that will process the string in the message column, then we can just use **apply()** in pandas do process all the text in the DataFrame.\n",
    "\n",
    "First removing punctuation. We can just take advantage of Python's built-in **string** library to get a quick list of all the possible punctuation."
   ]
  },
  {
   "cell_type": "markdown",
   "metadata": {},
   "source": [
    "### Document Term matrix using word Counts"
   ]
  },
  {
   "cell_type": "code",
   "execution_count": 41,
   "metadata": {},
   "outputs": [
    {
     "name": "stdout",
     "output_type": "stream",
     "text": [
      "['bad', 'book', 'experience', 'feeling', 'happy', 'hotel', 'mobile', 'new', 'nice', 'phone', 'read', 'real']\n",
      "(3, 12)\n"
     ]
    },
    {
     "data": {
      "text/html": [
       "<div>\n",
       "<style scoped>\n",
       "    .dataframe tbody tr th:only-of-type {\n",
       "        vertical-align: middle;\n",
       "    }\n",
       "\n",
       "    .dataframe tbody tr th {\n",
       "        vertical-align: top;\n",
       "    }\n",
       "\n",
       "    .dataframe thead th {\n",
       "        text-align: right;\n",
       "    }\n",
       "</style>\n",
       "<table border=\"1\" class=\"dataframe\">\n",
       "  <thead>\n",
       "    <tr style=\"text-align: right;\">\n",
       "      <th></th>\n",
       "      <th>bad</th>\n",
       "      <th>book</th>\n",
       "      <th>experience</th>\n",
       "      <th>feeling</th>\n",
       "      <th>happy</th>\n",
       "      <th>hotel</th>\n",
       "      <th>mobile</th>\n",
       "      <th>new</th>\n",
       "      <th>nice</th>\n",
       "      <th>phone</th>\n",
       "      <th>read</th>\n",
       "      <th>real</th>\n",
       "      <th>originalText</th>\n",
       "    </tr>\n",
       "  </thead>\n",
       "  <tbody>\n",
       "    <tr>\n",
       "      <td>0</td>\n",
       "      <td>0</td>\n",
       "      <td>1</td>\n",
       "      <td>0</td>\n",
       "      <td>0</td>\n",
       "      <td>0</td>\n",
       "      <td>0</td>\n",
       "      <td>0</td>\n",
       "      <td>0</td>\n",
       "      <td>1</td>\n",
       "      <td>0</td>\n",
       "      <td>1</td>\n",
       "      <td>0</td>\n",
       "      <td>This book is nice to read</td>\n",
       "    </tr>\n",
       "    <tr>\n",
       "      <td>1</td>\n",
       "      <td>1</td>\n",
       "      <td>0</td>\n",
       "      <td>1</td>\n",
       "      <td>0</td>\n",
       "      <td>0</td>\n",
       "      <td>1</td>\n",
       "      <td>0</td>\n",
       "      <td>0</td>\n",
       "      <td>0</td>\n",
       "      <td>0</td>\n",
       "      <td>0</td>\n",
       "      <td>1</td>\n",
       "      <td>I had real bad experience in that hotel</td>\n",
       "    </tr>\n",
       "    <tr>\n",
       "      <td>2</td>\n",
       "      <td>0</td>\n",
       "      <td>0</td>\n",
       "      <td>0</td>\n",
       "      <td>1</td>\n",
       "      <td>1</td>\n",
       "      <td>0</td>\n",
       "      <td>1</td>\n",
       "      <td>1</td>\n",
       "      <td>0</td>\n",
       "      <td>1</td>\n",
       "      <td>0</td>\n",
       "      <td>0</td>\n",
       "      <td>Feeling happy about the new mobile phone!</td>\n",
       "    </tr>\n",
       "  </tbody>\n",
       "</table>\n",
       "</div>"
      ],
      "text/plain": [
       "   bad  book  experience  feeling  happy  hotel  mobile  new  nice  phone  \\\n",
       "0    0     1           0        0      0      0       0    0     1      0   \n",
       "1    1     0           1        0      0      1       0    0     0      0   \n",
       "2    0     0           0        1      1      0       1    1     0      1   \n",
       "\n",
       "   read  real                               originalText  \n",
       "0     1     0                  This book is nice to read  \n",
       "1     0     1    I had real bad experience in that hotel  \n",
       "2     0     0  Feeling happy about the new mobile phone!  "
      ]
     },
     "execution_count": 41,
     "metadata": {},
     "output_type": "execute_result"
    }
   ],
   "source": [
    "# count vectorization of text\n",
    "from sklearn.feature_extraction.text import CountVectorizer\n",
    "from sklearn.feature_extraction.stop_words import ENGLISH_STOP_WORDS\n",
    "\n",
    "corpus = [\n",
    "    'This book is nice to read',\n",
    "    'I had real bad experience in that hotel',\n",
    "    'Feeling happy about the new mobile phone!']\n",
    "\n",
    "#vectorizer = CountVectorizer(stop_words=None)\n",
    "vectorizer = CountVectorizer(stop_words=ENGLISH_STOP_WORDS)\n",
    "\n",
    "\n",
    "X = vectorizer.fit_transform(corpus)\n",
    "\n",
    "print(vectorizer.get_feature_names())\n",
    "\n",
    "print(X.shape)\n",
    "\n",
    "# Visualizing the Document Term Matrix\n",
    "import pandas as pd\n",
    "VectorizedText=pd.DataFrame(X.toarray(), columns=vectorizer.get_feature_names())\n",
    "VectorizedText['originalText']=pd.Series(corpus)\n",
    "VectorizedText"
   ]
  },
  {
   "cell_type": "markdown",
   "metadata": {},
   "source": [
    "# TF-IDF\n",
    "\n",
    "TF-IDF stands for *term frequency-inverse document frequency*, and the tf-idf weight is a weight often used in information retrieval and text mining. This weight is a statistical measure used to evaluate how important a word is to a document in a collection or corpus. The importance increases proportionally to the number of times a word appears in the document but is offset by the frequency of the word in the corpus. Variations of the tf-idf weighting scheme are often used by search engines as a central tool in scoring and ranking a document's relevance given a user query.\n",
    "\n",
    "One of the simplest ranking functions is computed by summing the tf-idf for each query term; many more sophisticated ranking functions are variants of this simple model.\n",
    "\n",
    "Typically, the tf-idf weight is composed by two terms: the first computes the normalized Term Frequency (TF), aka. the number of times a word appears in a document, divided by the total number of words in that document; the second term is the Inverse Document Frequency (IDF), computed as the logarithm of the number of the documents in the corpus divided by the number of documents where the specific term appears.\n",
    "\n",
    "**TF: Term Frequency**, which measures how frequently a term occurs in a document. Since every document is different in length, it is possible that a term would appear much more times in long documents than shorter ones. Thus, the term frequency is often divided by the document length (aka. the total number of terms in the document) as a way of normalization: \n",
    "\n",
    "<div class=\"alert alert-block alert-warning\">\n",
    "$$ TF(t) = \\frac{\\text{Number of times term t appears in a document}}{\\text{Total number of terms in the document}}. $$\n",
    "</div>    \n",
    "\n",
    "**IDF: Inverse Document Frequency**, which measures how important a term is. While computing TF, all terms are considered equally important. However it is known that certain terms, such as \"is\", \"of\", and \"that\", may appear a lot of times but have little importance. Thus we need to weigh down the frequent terms while scale up the rare ones, by computing the following: \n",
    "\n",
    "<div class=\"alert alert-block alert-warning\">\n",
    "$$ IDF(t) = \\log_e\\Bigg( \\frac{\\text{Total number of documents}}{\\text{Number of documents with term t in it}} \\Bigg). $$\n",
    "</div>\n",
    "\n",
    "See below for a simple example.\n",
    "\n",
    "**Example:**\n",
    "\n",
    "Consider a document containing 100 words wherein the word cat appears 3 times. \n",
    "\n",
    "The term frequency (i.e., tf) for cat is then (3 / 100) = 0.03. Now, assume we have 10 million documents and the word cat appears in one thousand of these. Then, the inverse document frequency (i.e., idf) is calculated as log(10,000,000 / 1,000) = 4. Thus, the Tf-idf weight is the product of these quantities: 0.03 * 4 = 0.12.\n",
    "\n",
    "\n",
    "\n",
    "### Document Term matrix using TF-IDF scores\n",
    "* TF-IDF is a composite score representing the power of a given word to uniquely identify the document\n",
    "* It is computed by multiplying Term Frequency(TF) and Inverse Document Frequency(IDF)\n",
    "\n",
    "\n",
    "* IF a word is very common, then IDF is near to zero, otherwise its close to 1\n",
    "* The higher the tf-idf value of a word, the more unique/rare occuring that word is.\n",
    "* If the tf-idf is close to zero, it means the word is very commonly used"
   ]
  },
  {
   "cell_type": "code",
   "execution_count": 34,
   "metadata": {},
   "outputs": [
    {
     "name": "stdout",
     "output_type": "stream",
     "text": [
      "['bad', 'book', 'experience', 'feeling', 'happy', 'hotel', 'mobile', 'new', 'nice', 'phone', 'read', 'real']\n"
     ]
    },
    {
     "data": {
      "text/html": [
       "<div>\n",
       "<style scoped>\n",
       "    .dataframe tbody tr th:only-of-type {\n",
       "        vertical-align: middle;\n",
       "    }\n",
       "\n",
       "    .dataframe tbody tr th {\n",
       "        vertical-align: top;\n",
       "    }\n",
       "\n",
       "    .dataframe thead th {\n",
       "        text-align: right;\n",
       "    }\n",
       "</style>\n",
       "<table border=\"1\" class=\"dataframe\">\n",
       "  <thead>\n",
       "    <tr style=\"text-align: right;\">\n",
       "      <th></th>\n",
       "      <th>bad</th>\n",
       "      <th>book</th>\n",
       "      <th>experience</th>\n",
       "      <th>feeling</th>\n",
       "      <th>happy</th>\n",
       "      <th>hotel</th>\n",
       "      <th>mobile</th>\n",
       "      <th>new</th>\n",
       "      <th>nice</th>\n",
       "      <th>phone</th>\n",
       "      <th>read</th>\n",
       "      <th>real</th>\n",
       "      <th>originalText</th>\n",
       "    </tr>\n",
       "  </thead>\n",
       "  <tbody>\n",
       "    <tr>\n",
       "      <td>0</td>\n",
       "      <td>0.0</td>\n",
       "      <td>0.57735</td>\n",
       "      <td>0.0</td>\n",
       "      <td>0.000000</td>\n",
       "      <td>0.000000</td>\n",
       "      <td>0.0</td>\n",
       "      <td>0.000000</td>\n",
       "      <td>0.000000</td>\n",
       "      <td>0.57735</td>\n",
       "      <td>0.000000</td>\n",
       "      <td>0.57735</td>\n",
       "      <td>0.0</td>\n",
       "      <td>This book is nice to read</td>\n",
       "    </tr>\n",
       "    <tr>\n",
       "      <td>1</td>\n",
       "      <td>0.5</td>\n",
       "      <td>0.00000</td>\n",
       "      <td>0.5</td>\n",
       "      <td>0.000000</td>\n",
       "      <td>0.000000</td>\n",
       "      <td>0.5</td>\n",
       "      <td>0.000000</td>\n",
       "      <td>0.000000</td>\n",
       "      <td>0.00000</td>\n",
       "      <td>0.000000</td>\n",
       "      <td>0.00000</td>\n",
       "      <td>0.5</td>\n",
       "      <td>I had real bad experience in that hotel</td>\n",
       "    </tr>\n",
       "    <tr>\n",
       "      <td>2</td>\n",
       "      <td>0.0</td>\n",
       "      <td>0.00000</td>\n",
       "      <td>0.0</td>\n",
       "      <td>0.447214</td>\n",
       "      <td>0.447214</td>\n",
       "      <td>0.0</td>\n",
       "      <td>0.447214</td>\n",
       "      <td>0.447214</td>\n",
       "      <td>0.00000</td>\n",
       "      <td>0.447214</td>\n",
       "      <td>0.00000</td>\n",
       "      <td>0.0</td>\n",
       "      <td>Feeling happy about the new mobile phone!</td>\n",
       "    </tr>\n",
       "  </tbody>\n",
       "</table>\n",
       "</div>"
      ],
      "text/plain": [
       "   bad     book  experience   feeling     happy  hotel    mobile       new  \\\n",
       "0  0.0  0.57735         0.0  0.000000  0.000000    0.0  0.000000  0.000000   \n",
       "1  0.5  0.00000         0.5  0.000000  0.000000    0.5  0.000000  0.000000   \n",
       "2  0.0  0.00000         0.0  0.447214  0.447214    0.0  0.447214  0.447214   \n",
       "\n",
       "      nice     phone     read  real                               originalText  \n",
       "0  0.57735  0.000000  0.57735   0.0                  This book is nice to read  \n",
       "1  0.00000  0.000000  0.00000   0.5    I had real bad experience in that hotel  \n",
       "2  0.00000  0.447214  0.00000   0.0  Feeling happy about the new mobile phone!  "
      ]
     },
     "execution_count": 34,
     "metadata": {},
     "output_type": "execute_result"
    }
   ],
   "source": [
    "# TF-IDF vectorization of text\n",
    "from sklearn.feature_extraction.text import TfidfVectorizer\n",
    "from sklearn.feature_extraction.stop_words import ENGLISH_STOP_WORDS\n",
    "\n",
    "corpus = [\n",
    "    'This book is nice to read',\n",
    "    'I had real bad experience in that hotel',\n",
    "    'Feeling happy about the new mobile phone!']\n",
    "\n",
    "#vectorizer = TfidfVectorizer(stop_words=None)\n",
    "vectorizer = TfidfVectorizer(stop_words=ENGLISH_STOP_WORDS)\n",
    "\n",
    "X = vectorizer.fit_transform(corpus)\n",
    "\n",
    "print(vectorizer.get_feature_names())\n",
    "\n",
    "\n",
    "# Visualizing the Document Term Matrix using TF-IDF\n",
    "VectorizedText=pd.DataFrame(X.toarray(), columns=vectorizer.get_feature_names())\n",
    "VectorizedText['originalText']=pd.Series(corpus)\n",
    "VectorizedText"
   ]
  },
  {
   "cell_type": "code",
   "execution_count": 35,
   "metadata": {},
   "outputs": [
    {
     "name": "stdout",
     "output_type": "stream",
     "text": [
      "Cleaned Texts : \n",
      " ['natural language processing nlp field computer science artificial intelligence computational linguistics concerned interaction computer human natural language', 'good example explain concept', 'another line show good variation'] \n",
      "\n",
      "Cleaned feature names : \n",
      "\n",
      "['another', 'artificial', 'computational', 'computer', 'concept', 'concerned', 'example', 'explain', 'field', 'good', 'human', 'intelligence', 'interaction', 'language', 'line', 'linguistics', 'natural', 'nlp', 'processing', 'science', 'show', 'variation']\n",
      "Shape :  (3, 22)\n"
     ]
    },
    {
     "data": {
      "text/html": [
       "<div>\n",
       "<style scoped>\n",
       "    .dataframe tbody tr th:only-of-type {\n",
       "        vertical-align: middle;\n",
       "    }\n",
       "\n",
       "    .dataframe tbody tr th {\n",
       "        vertical-align: top;\n",
       "    }\n",
       "\n",
       "    .dataframe thead th {\n",
       "        text-align: right;\n",
       "    }\n",
       "</style>\n",
       "<table border=\"1\" class=\"dataframe\">\n",
       "  <thead>\n",
       "    <tr style=\"text-align: right;\">\n",
       "      <th></th>\n",
       "      <th>another</th>\n",
       "      <th>artificial</th>\n",
       "      <th>computational</th>\n",
       "      <th>computer</th>\n",
       "      <th>concept</th>\n",
       "      <th>concerned</th>\n",
       "      <th>example</th>\n",
       "      <th>explain</th>\n",
       "      <th>field</th>\n",
       "      <th>good</th>\n",
       "      <th>...</th>\n",
       "      <th>language</th>\n",
       "      <th>line</th>\n",
       "      <th>linguistics</th>\n",
       "      <th>natural</th>\n",
       "      <th>nlp</th>\n",
       "      <th>processing</th>\n",
       "      <th>science</th>\n",
       "      <th>show</th>\n",
       "      <th>variation</th>\n",
       "      <th>originalText</th>\n",
       "    </tr>\n",
       "  </thead>\n",
       "  <tbody>\n",
       "    <tr>\n",
       "      <td>0</td>\n",
       "      <td>0.000000</td>\n",
       "      <td>0.208514</td>\n",
       "      <td>0.208514</td>\n",
       "      <td>0.417029</td>\n",
       "      <td>0.000000</td>\n",
       "      <td>0.208514</td>\n",
       "      <td>0.000000</td>\n",
       "      <td>0.000000</td>\n",
       "      <td>0.208514</td>\n",
       "      <td>0.000000</td>\n",
       "      <td>...</td>\n",
       "      <td>0.417029</td>\n",
       "      <td>0.000000</td>\n",
       "      <td>0.208514</td>\n",
       "      <td>0.417029</td>\n",
       "      <td>0.208514</td>\n",
       "      <td>0.208514</td>\n",
       "      <td>0.208514</td>\n",
       "      <td>0.000000</td>\n",
       "      <td>0.000000</td>\n",
       "      <td>natural language processing nlp field computer...</td>\n",
       "    </tr>\n",
       "    <tr>\n",
       "      <td>1</td>\n",
       "      <td>0.000000</td>\n",
       "      <td>0.000000</td>\n",
       "      <td>0.000000</td>\n",
       "      <td>0.000000</td>\n",
       "      <td>0.528635</td>\n",
       "      <td>0.000000</td>\n",
       "      <td>0.528635</td>\n",
       "      <td>0.528635</td>\n",
       "      <td>0.000000</td>\n",
       "      <td>0.402040</td>\n",
       "      <td>...</td>\n",
       "      <td>0.000000</td>\n",
       "      <td>0.000000</td>\n",
       "      <td>0.000000</td>\n",
       "      <td>0.000000</td>\n",
       "      <td>0.000000</td>\n",
       "      <td>0.000000</td>\n",
       "      <td>0.000000</td>\n",
       "      <td>0.000000</td>\n",
       "      <td>0.000000</td>\n",
       "      <td>good example explain concept</td>\n",
       "    </tr>\n",
       "    <tr>\n",
       "      <td>2</td>\n",
       "      <td>0.467351</td>\n",
       "      <td>0.000000</td>\n",
       "      <td>0.000000</td>\n",
       "      <td>0.000000</td>\n",
       "      <td>0.000000</td>\n",
       "      <td>0.000000</td>\n",
       "      <td>0.000000</td>\n",
       "      <td>0.000000</td>\n",
       "      <td>0.000000</td>\n",
       "      <td>0.355432</td>\n",
       "      <td>...</td>\n",
       "      <td>0.000000</td>\n",
       "      <td>0.467351</td>\n",
       "      <td>0.000000</td>\n",
       "      <td>0.000000</td>\n",
       "      <td>0.000000</td>\n",
       "      <td>0.000000</td>\n",
       "      <td>0.000000</td>\n",
       "      <td>0.467351</td>\n",
       "      <td>0.467351</td>\n",
       "      <td>another line show good variation</td>\n",
       "    </tr>\n",
       "  </tbody>\n",
       "</table>\n",
       "<p>3 rows × 23 columns</p>\n",
       "</div>"
      ],
      "text/plain": [
       "    another  artificial  computational  computer   concept  concerned  \\\n",
       "0  0.000000    0.208514       0.208514  0.417029  0.000000   0.208514   \n",
       "1  0.000000    0.000000       0.000000  0.000000  0.528635   0.000000   \n",
       "2  0.467351    0.000000       0.000000  0.000000  0.000000   0.000000   \n",
       "\n",
       "    example   explain     field      good  ...  language      line  \\\n",
       "0  0.000000  0.000000  0.208514  0.000000  ...  0.417029  0.000000   \n",
       "1  0.528635  0.528635  0.000000  0.402040  ...  0.000000  0.000000   \n",
       "2  0.000000  0.000000  0.000000  0.355432  ...  0.000000  0.467351   \n",
       "\n",
       "   linguistics   natural       nlp  processing   science      show  variation  \\\n",
       "0     0.208514  0.417029  0.208514    0.208514  0.208514  0.000000   0.000000   \n",
       "1     0.000000  0.000000  0.000000    0.000000  0.000000  0.000000   0.000000   \n",
       "2     0.000000  0.000000  0.000000    0.000000  0.000000  0.467351   0.467351   \n",
       "\n",
       "                                        originalText  \n",
       "0  natural language processing nlp field computer...  \n",
       "1                       good example explain concept  \n",
       "2                   another line show good variation  \n",
       "\n",
       "[3 rows x 23 columns]"
      ]
     },
     "execution_count": 35,
     "metadata": {},
     "output_type": "execute_result"
    }
   ],
   "source": [
    "# TF-IDF model\n",
    "\n",
    "import nltk\n",
    "import string\n",
    "from nltk.corpus import stopwords\n",
    "from nltk.stem.porter import PorterStemmer\n",
    "from nltk.stem import WordNetLemmatizer\n",
    "\n",
    "SampleText = \"\"\"Natural language processing (NLP) is a field of computer science, artificial intelligence, and \n",
    "computational linguistics concerned with the interactions between computers and human (natural) languages. \n",
    "This is a very good example to explain this concept. Just another line to show some good variation.\"\"\"\n",
    "\n",
    "# Cleaning the texts\n",
    "ps = PorterStemmer()\n",
    "wordnet=WordNetLemmatizer()\n",
    "sentences = nltk.sent_tokenize(SampleText)\n",
    "\n",
    "corpus = []\n",
    "for i in range(len(sentences)):\n",
    "    cleanText = [char for char in sentences[i] if char not in string.punctuation]\n",
    "    cleanText = ''.join(cleanText)\n",
    "    cleanText = cleanText.lower()\n",
    "    cleanText = cleanText.split()\n",
    "    cleanText = [wordnet.lemmatize(w) for w in cleanText if not w in set(stopwords.words('english'))]\n",
    "    cleanText = ' '.join(cleanText)\n",
    "    corpus.append(cleanText)\n",
    "    \n",
    "print(\"Cleaned Texts : \\n\",corpus,\"\\n\")\n",
    "\n",
    "# Creating the TF-IDF model\n",
    "from sklearn.feature_extraction.text import TfidfVectorizer\n",
    "\n",
    "vectorizer = TfidfVectorizer()\n",
    "X = vectorizer.fit_transform(corpus)\n",
    "\n",
    "print(\"Cleaned feature names : \\n\")\n",
    "print(vectorizer.get_feature_names())\n",
    "print(\"Shape : \",X.shape)\n",
    "\n",
    "# Visualizing the Document Term Matrix using TF-IDF\n",
    "VectorizedText=pd.DataFrame(X.toarray(), columns=vectorizer.get_feature_names())\n",
    "VectorizedText['originalText']=pd.Series(corpus)\n",
    "VectorizedText"
   ]
  },
  {
   "cell_type": "markdown",
   "metadata": {},
   "source": [
    "## Vectorization\n",
    "\n",
    "After text preprocessing, we left with lists of tokens (also known as [lemmas](http://nlp.stanford.edu/IR-book/html/htmledition/stemming-and-lemmatization-1.html)) and now we need to convert each of those tokens into a vector the SciKit Learn's algorithm models can work with.\n",
    "\n",
    "Three steps to convert list of tokens (lemmas) into a vector that machine learning models can understand:\n",
    "\n",
    "1. Count how many times does a word occur in each sentence (Known as term frequency)\n",
    "\n",
    "2. Weigh the counts, so that frequent tokens get lower weight (inverse document frequency)\n",
    "\n",
    "3. Normalize the vectors to unit length, to abstract from the original text length (L2 norm)\n"
   ]
  },
  {
   "cell_type": "markdown",
   "metadata": {},
   "source": [
    "# What to do with vectorized text?\n",
    "* This data can further be used in machine learning\n",
    "* If the text data also as target variable e.g. sentiment(positive/negative) or Support Ticket Priority (P1/P2/P3) then these word columns act as predictors and we can fit a classification/regression ML algorithm"
   ]
  }
 ],
 "metadata": {
  "kernelspec": {
   "display_name": "Python 3",
   "language": "python",
   "name": "python3"
  },
  "language_info": {
   "codemirror_mode": {
    "name": "ipython",
    "version": 3
   },
   "file_extension": ".py",
   "mimetype": "text/x-python",
   "name": "python",
   "nbconvert_exporter": "python",
   "pygments_lexer": "ipython3",
   "version": "3.7.4"
  }
 },
 "nbformat": 4,
 "nbformat_minor": 2
}
