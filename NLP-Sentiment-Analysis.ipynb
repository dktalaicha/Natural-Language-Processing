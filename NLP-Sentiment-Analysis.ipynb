{
 "cells": [
  {
   "cell_type": "markdown",
   "metadata": {},
   "source": [
    "# Sentiment Analysis"
   ]
  },
  {
   "cell_type": "markdown",
   "metadata": {},
   "source": [
    "## What is it Sentiment Analysis ?\n",
    "\n",
    "\n",
    "At the most basic level, sentiment analysis is the attempt to derive the emotion or 'feeling' of a body of text. The field of sentiment analysis and opinion mining usually also involves some form of data mining to get the text. Many times, the field of natural language processing is also used.\n"
   ]
  },
  {
   "cell_type": "markdown",
   "metadata": {},
   "source": [
    "## How does sentiment analysis work?\n",
    "\n",
    "There are many ways that people analyze bodies of text for sentiment or opinions, but it usually boils down to two methods.\n",
    "\n",
    "### 1. \"Bag of Words\" Model:\n",
    "\n",
    "This model focuses completely on the words, or sometimes a string of words, but usually pays no attention to the \"context\" so-to-speak. The bag of words model usually has a large list, probably better thought of as a sort of \"dictionary,\" which are considered to be words that carry sentiment. These words each have their own \"value\" when found in text. The values are typically all added up and the result is a sentiment valuation. The equation to add and derive a number can vary, but this model mainly focuses on the words, and makes no attempt to actually understand language fundamentals.\n",
    "\n",
    "### 2. Using Natural Language Processing, and the attempt to truly \"understand\" the text:\n",
    "\n",
    "This model attempts to have the machine actually understand the sentences structures, context, and is more focused on the succession of a string of words. Usually, this structure requires the machine to have understanding of grammar principles. To do this, Natural Language Processing (NLP) techniques are used to tag parts of speech, named entities, and more, in order to actually understand the \"language\" of the text, and not just look for target words.\n"
   ]
  },
  {
   "cell_type": "markdown",
   "metadata": {},
   "source": [
    "## Which form of sentiment analysis is better?\n",
    "\n",
    "In a pure \"Bag of Words\" model, the following sentences will be treated same!\n",
    "\n",
    "\"That's true, I am not a fan.\"\n",
    "\n",
    "vs\n",
    "\n",
    "\"That's not true, I am a fan.\"\n",
    "\n",
    "However, the meaning of both sentences is totally opposite! In this scenario, Bag of words model will fail.\n",
    "\n",
    "Implementation of bag of words model is very easy and it can be customized for any domain by adding specific keywords.\n",
    "\n",
    "Implementation of Natural Language Processing model is complex and does not guarantee high accuracy due to the nuances of language.\n"
   ]
  },
  {
   "cell_type": "markdown",
   "metadata": {},
   "source": [
    "## Sentiment Analysis using Bag of Words Model"
   ]
  },
  {
   "cell_type": "code",
   "execution_count": 21,
   "metadata": {},
   "outputs": [],
   "source": [
    "import pandas as pd\n",
    "import re"
   ]
  },
  {
   "cell_type": "code",
   "execution_count": 22,
   "metadata": {},
   "outputs": [],
   "source": [
    "PositiveWords=pd.read_table('datasets/Positive_words.txt',encoding='latin-1')\n",
    "NegativeWords=pd.read_table('datasets/Negative_words.txt',encoding='latin-1')"
   ]
  },
  {
   "cell_type": "code",
   "execution_count": 23,
   "metadata": {},
   "outputs": [
    {
     "data": {
      "text/html": [
       "<div>\n",
       "<style scoped>\n",
       "    .dataframe tbody tr th:only-of-type {\n",
       "        vertical-align: middle;\n",
       "    }\n",
       "\n",
       "    .dataframe tbody tr th {\n",
       "        vertical-align: top;\n",
       "    }\n",
       "\n",
       "    .dataframe thead th {\n",
       "        text-align: right;\n",
       "    }\n",
       "</style>\n",
       "<table border=\"1\" class=\"dataframe\">\n",
       "  <thead>\n",
       "    <tr style=\"text-align: right;\">\n",
       "      <th></th>\n",
       "      <th>PositiveWords</th>\n",
       "    </tr>\n",
       "  </thead>\n",
       "  <tbody>\n",
       "    <tr>\n",
       "      <td>0</td>\n",
       "      <td>abound</td>\n",
       "    </tr>\n",
       "    <tr>\n",
       "      <td>1</td>\n",
       "      <td>abounds</td>\n",
       "    </tr>\n",
       "    <tr>\n",
       "      <td>2</td>\n",
       "      <td>abundance</td>\n",
       "    </tr>\n",
       "    <tr>\n",
       "      <td>3</td>\n",
       "      <td>abundant</td>\n",
       "    </tr>\n",
       "    <tr>\n",
       "      <td>4</td>\n",
       "      <td>accessable</td>\n",
       "    </tr>\n",
       "  </tbody>\n",
       "</table>\n",
       "</div>"
      ],
      "text/plain": [
       "  PositiveWords\n",
       "0        abound\n",
       "1       abounds\n",
       "2     abundance\n",
       "3      abundant\n",
       "4    accessable"
      ]
     },
     "execution_count": 23,
     "metadata": {},
     "output_type": "execute_result"
    }
   ],
   "source": [
    "PositiveWords.head()"
   ]
  },
  {
   "cell_type": "code",
   "execution_count": 24,
   "metadata": {},
   "outputs": [
    {
     "data": {
      "text/html": [
       "<div>\n",
       "<style scoped>\n",
       "    .dataframe tbody tr th:only-of-type {\n",
       "        vertical-align: middle;\n",
       "    }\n",
       "\n",
       "    .dataframe tbody tr th {\n",
       "        vertical-align: top;\n",
       "    }\n",
       "\n",
       "    .dataframe thead th {\n",
       "        text-align: right;\n",
       "    }\n",
       "</style>\n",
       "<table border=\"1\" class=\"dataframe\">\n",
       "  <thead>\n",
       "    <tr style=\"text-align: right;\">\n",
       "      <th></th>\n",
       "      <th>NegativeWords</th>\n",
       "    </tr>\n",
       "  </thead>\n",
       "  <tbody>\n",
       "    <tr>\n",
       "      <td>0</td>\n",
       "      <td>2-faced</td>\n",
       "    </tr>\n",
       "    <tr>\n",
       "      <td>1</td>\n",
       "      <td>2-faces</td>\n",
       "    </tr>\n",
       "    <tr>\n",
       "      <td>2</td>\n",
       "      <td>abnormal</td>\n",
       "    </tr>\n",
       "    <tr>\n",
       "      <td>3</td>\n",
       "      <td>abolish</td>\n",
       "    </tr>\n",
       "    <tr>\n",
       "      <td>4</td>\n",
       "      <td>abominable</td>\n",
       "    </tr>\n",
       "  </tbody>\n",
       "</table>\n",
       "</div>"
      ],
      "text/plain": [
       "  NegativeWords\n",
       "0       2-faced\n",
       "1       2-faces\n",
       "2      abnormal\n",
       "3       abolish\n",
       "4    abominable"
      ]
     },
     "execution_count": 24,
     "metadata": {},
     "output_type": "execute_result"
    }
   ],
   "source": [
    "NegativeWords.head()"
   ]
  },
  {
   "cell_type": "markdown",
   "metadata": {},
   "source": [
    "### Defining a Sentiment Score function using Bag of words"
   ]
  },
  {
   "cell_type": "code",
   "execution_count": 25,
   "metadata": {},
   "outputs": [],
   "source": [
    "# Defining a function to take a sentence as input and provide a sentiment fo it.\n",
    "def ComputeSentimentScore(inputSentence):\n",
    "    PositiveScore=0\n",
    "    NegativeScore=0\n",
    "    OverallSentiment=''\n",
    "    \n",
    "    # converting every word in lowercase\n",
    "    newSentence = inputSentence.lower()\n",
    "    \n",
    "    # Removing everything which is not alphabets\n",
    "    WordList = re.sub(r'[^a-z A-Z]',r'',newSentence)\n",
    "    \n",
    "    # Splitting the sentence into list of words\n",
    "    WordList = WordList.split()\n",
    "    \n",
    "    # Iterate every word and check if it is present in the positive or negative word list\n",
    "    for newWord in WordList:\n",
    "        #print(newWord)\n",
    "        if (newWord in NegativeWords.values):\n",
    "            NegativeScore+=1\n",
    "        if (newWord in PositiveWords.values):\n",
    "            PositiveScore+=1\n",
    "    #print('Final Positive Score:',PositiveScore)\n",
    "    #print('Final Negative Score:',NegativeScore)\n",
    "    #print('Overall Score:',PositiveScore-NegativeScore)\n",
    "    \n",
    "    if((PositiveScore-NegativeScore) > 0):\n",
    "        OverallSentiment='Positive'\n",
    "    else:\n",
    "        OverallSentiment='Negative'\n",
    "    return(OverallSentiment)"
   ]
  },
  {
   "cell_type": "markdown",
   "metadata": {},
   "source": [
    "### Calling the sentiment score function for a single text"
   ]
  },
  {
   "cell_type": "code",
   "execution_count": 26,
   "metadata": {},
   "outputs": [
    {
     "data": {
      "text/plain": [
       "'Positive'"
      ]
     },
     "execution_count": 26,
     "metadata": {},
     "output_type": "execute_result"
    }
   ],
   "source": [
    "newSentence='I love this mobile, nice experience'\n",
    "\n",
    "#Calling the function by passing sample sentence\n",
    "ComputeSentimentScore(newSentence)"
   ]
  },
  {
   "cell_type": "code",
   "execution_count": 27,
   "metadata": {},
   "outputs": [
    {
     "data": {
      "text/plain": [
       "'Negative'"
      ]
     },
     "execution_count": 27,
     "metadata": {},
     "output_type": "execute_result"
    }
   ],
   "source": [
    "newSentence='I hate this mobile, worst experience'\n",
    "\n",
    "#Calling the function by passing sample sentence\n",
    "ComputeSentimentScore(newSentence)"
   ]
  },
  {
   "cell_type": "markdown",
   "metadata": {
    "collapsed": true
   },
   "source": [
    "### Calling the sentiment score function for a column in dataframe"
   ]
  },
  {
   "cell_type": "code",
   "execution_count": 28,
   "metadata": {},
   "outputs": [
    {
     "name": "stdout",
     "output_type": "stream",
     "text": [
      "(1077, 1)\n"
     ]
    },
    {
     "data": {
      "text/html": [
       "<div>\n",
       "<style scoped>\n",
       "    .dataframe tbody tr th:only-of-type {\n",
       "        vertical-align: middle;\n",
       "    }\n",
       "\n",
       "    .dataframe tbody tr th {\n",
       "        vertical-align: top;\n",
       "    }\n",
       "\n",
       "    .dataframe thead th {\n",
       "        text-align: right;\n",
       "    }\n",
       "</style>\n",
       "<table border=\"1\" class=\"dataframe\">\n",
       "  <thead>\n",
       "    <tr style=\"text-align: right;\">\n",
       "      <th></th>\n",
       "      <th>Tweets</th>\n",
       "    </tr>\n",
       "  </thead>\n",
       "  <tbody>\n",
       "    <tr>\n",
       "      <td>0</td>\n",
       "      <td>Hackers galore Also being sued for passed deb...</td>\n",
       "    </tr>\n",
       "    <tr>\n",
       "      <td>1</td>\n",
       "      <td>Hackers galore Also being sued for passed deb...</td>\n",
       "    </tr>\n",
       "    <tr>\n",
       "      <td>2</td>\n",
       "      <td>London England UK  Come rock with ya girl Fri...</td>\n",
       "    </tr>\n",
       "    <tr>\n",
       "      <td>3</td>\n",
       "      <td>NewsAlert  BengaluruVijaywada Indigo flight 6E...</td>\n",
       "    </tr>\n",
       "    <tr>\n",
       "      <td>4</td>\n",
       "      <td>Hackers galore Also being sued for passed debt...</td>\n",
       "    </tr>\n",
       "  </tbody>\n",
       "</table>\n",
       "</div>"
      ],
      "text/plain": [
       "                                              Tweets\n",
       "0   Hackers galore Also being sued for passed deb...\n",
       "1   Hackers galore Also being sued for passed deb...\n",
       "2   London England UK  Come rock with ya girl Fri...\n",
       "3  NewsAlert  BengaluruVijaywada Indigo flight 6E...\n",
       "4  Hackers galore Also being sued for passed debt..."
      ]
     },
     "execution_count": 28,
     "metadata": {},
     "output_type": "execute_result"
    }
   ],
   "source": [
    "IndigoTweets=pd.read_csv('datasets/Indigo Tweets.csv', encoding='latin')\n",
    "print(IndigoTweets.shape)\n",
    "IndigoTweets.head()"
   ]
  },
  {
   "cell_type": "code",
   "execution_count": 29,
   "metadata": {},
   "outputs": [
    {
     "data": {
      "text/html": [
       "<div>\n",
       "<style scoped>\n",
       "    .dataframe tbody tr th:only-of-type {\n",
       "        vertical-align: middle;\n",
       "    }\n",
       "\n",
       "    .dataframe tbody tr th {\n",
       "        vertical-align: top;\n",
       "    }\n",
       "\n",
       "    .dataframe thead th {\n",
       "        text-align: right;\n",
       "    }\n",
       "</style>\n",
       "<table border=\"1\" class=\"dataframe\">\n",
       "  <thead>\n",
       "    <tr style=\"text-align: right;\">\n",
       "      <th></th>\n",
       "      <th>Tweets</th>\n",
       "      <th>Sentiment</th>\n",
       "    </tr>\n",
       "  </thead>\n",
       "  <tbody>\n",
       "    <tr>\n",
       "      <td>0</td>\n",
       "      <td>Hackers galore Also being sued for passed deb...</td>\n",
       "      <td>Negative</td>\n",
       "    </tr>\n",
       "    <tr>\n",
       "      <td>1</td>\n",
       "      <td>Hackers galore Also being sued for passed deb...</td>\n",
       "      <td>Negative</td>\n",
       "    </tr>\n",
       "    <tr>\n",
       "      <td>2</td>\n",
       "      <td>London England UK  Come rock with ya girl Fri...</td>\n",
       "      <td>Negative</td>\n",
       "    </tr>\n",
       "    <tr>\n",
       "      <td>3</td>\n",
       "      <td>NewsAlert  BengaluruVijaywada Indigo flight 6E...</td>\n",
       "      <td>Negative</td>\n",
       "    </tr>\n",
       "    <tr>\n",
       "      <td>4</td>\n",
       "      <td>Hackers galore Also being sued for passed debt...</td>\n",
       "      <td>Negative</td>\n",
       "    </tr>\n",
       "  </tbody>\n",
       "</table>\n",
       "</div>"
      ],
      "text/plain": [
       "                                              Tweets Sentiment\n",
       "0   Hackers galore Also being sued for passed deb...  Negative\n",
       "1   Hackers galore Also being sued for passed deb...  Negative\n",
       "2   London England UK  Come rock with ya girl Fri...  Negative\n",
       "3  NewsAlert  BengaluruVijaywada Indigo flight 6E...  Negative\n",
       "4  Hackers galore Also being sued for passed debt...  Negative"
      ]
     },
     "execution_count": 29,
     "metadata": {},
     "output_type": "execute_result"
    }
   ],
   "source": [
    "# Calling sentiment score function for every tweet\n",
    "IndigoTweets['Sentiment']=IndigoTweets['Tweets'].apply(ComputeSentimentScore)\n",
    "IndigoTweets.head()"
   ]
  },
  {
   "cell_type": "code",
   "execution_count": 31,
   "metadata": {},
   "outputs": [
    {
     "data": {
      "text/plain": [
       "<matplotlib.axes._subplots.AxesSubplot at 0x7fc15d2d0490>"
      ]
     },
     "execution_count": 31,
     "metadata": {},
     "output_type": "execute_result"
    },
    {
     "data": {
      "image/png": "[encoded data removed]",
      "text/plain": [
       "<Figure size 720x288 with 2 Axes>"
      ]
     },
     "metadata": {
      "needs_background": "light"
     },
     "output_type": "display_data"
    }
   ],
   "source": [
    "# Visualizing the overall sentiment distribution\n",
    "import matplotlib.pyplot as plt\n",
    "\n",
    "fig, subPlot = plt.subplots(nrows=1, ncols=2, figsize=(10,4))\n",
    "fig.suptitle(\"Sentiment analysis of Indigo Tweets\")\n",
    "\n",
    "# Grouping the data\n",
    "GroupedData = IndigoTweets.groupby('Sentiment').size()\n",
    "\n",
    "# Creating the charts\n",
    "GroupedData.plot(kind='bar', ax=subPlot[0], color=['crimson', 'yellowgreen'])\n",
    "GroupedData.plot(kind='pie', ax=subPlot[1], colors=['crimson', 'yellowgreen'])"
   ]
  },
  {
   "cell_type": "code",
   "execution_count": null,
   "metadata": {
    "collapsed": true
   },
   "outputs": [],
   "source": []
  }
 ],
 "metadata": {
  "anaconda-cloud": {},
  "kernelspec": {
   "display_name": "Python 3",
   "language": "python",
   "name": "python3"
  },
  "language_info": {
   "codemirror_mode": {
    "name": "ipython",
    "version": 3
   },
   "file_extension": ".py",
   "mimetype": "text/x-python",
   "name": "python",
   "nbconvert_exporter": "python",
   "pygments_lexer": "ipython3",
   "version": "3.7.4"
  }
 },
 "nbformat": 4,
 "nbformat_minor": 1
}
